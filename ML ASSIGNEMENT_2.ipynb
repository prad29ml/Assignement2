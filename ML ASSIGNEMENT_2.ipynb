{
 "cells": [
  {
   "cell_type": "code",
   "execution_count": 1,
   "metadata": {},
   "outputs": [],
   "source": [
    "#MLASSIGNEMENT_2_TASK1_3"
   ]
  },
  {
   "cell_type": "code",
   "execution_count": 7,
   "metadata": {},
   "outputs": [
    {
     "name": "stdout",
     "output_type": "stream",
     "text": [
      "pradipto\n"
     ]
    }
   ],
   "source": [
    "def find_longest_word(words):\n",
    "    word=[]\n",
    "    for n in words:\n",
    "        word.append((len(n), n))\n",
    "    word.sort()\n",
    "    return word[-1][1]\n",
    "\n",
    "print(find_longest_word([\"ram\", \"sita\", \"pradipto\"]))\n",
    "        \n",
    "    "
   ]
  },
  {
   "cell_type": "code",
   "execution_count": null,
   "metadata": {},
   "outputs": [],
   "source": [
    "#MLASSIGNEMENT_2_TASK1_1.1"
   ]
  },
  {
   "cell_type": "code",
   "execution_count": 18,
   "metadata": {},
   "outputs": [
    {
     "name": "stdout",
     "output_type": "stream",
     "text": [
      "Sum on list [5,15,25] using defind reduce function is 45\n"
     ]
    }
   ],
   "source": [
    "def user_reduce(func, seq):\n",
    "    res = seq[0]\n",
    "    for i in seq[1:]:\n",
    "        res = func(res,i)\n",
    "    return res\n",
    "def sum(x,y):\n",
    "    return (x+y)\n",
    "print (\"Sum on list [5,15,25] using defind reduce function is \" + str(user_reduce(sum, [5,15,25])) )"
   ]
  },
  {
   "cell_type": "code",
   "execution_count": null,
   "metadata": {},
   "outputs": [],
   "source": [
    "#MLASSIGNEMENT_2_TASK1_1.2"
   ]
  },
  {
   "cell_type": "code",
   "execution_count": 19,
   "metadata": {},
   "outputs": [
    {
     "name": "stdout",
     "output_type": "stream",
     "text": [
      "finding positive integers from [1,5,-4,-6,9] using user defined filter function is [1, 5, 9]\n"
     ]
    }
   ],
   "source": [
    "def user_filter(func,seq):\n",
    "    li=[]\n",
    "    for i in seq:\n",
    "        if func(i):\n",
    "            li.append(i)\n",
    "    return li\n",
    "def pos(x):\n",
    "    if x>=0:\n",
    "        return True\n",
    "    else:\n",
    "        return False\n",
    "print(\"finding positive integers from [1,5,-4,-6,9] using user defined filter function is \" +str(user_filter(pos,[1,5,-4,-6,9])) )"
   ]
  },
  {
   "cell_type": "code",
   "execution_count": null,
   "metadata": {},
   "outputs": [],
   "source": [
    "#MLASSIGNEMENT_2_TASK2_1.2"
   ]
  },
  {
   "cell_type": "code",
   "execution_count": 27,
   "metadata": {},
   "outputs": [
    {
     "name": "stdout",
     "output_type": "stream",
     "text": [
      "['I', 'am', 'really', 'finding', 'it', 'intersting']\n",
      "['really', 'finding', 'intersting']\n"
     ]
    }
   ],
   "source": [
    "def filter_long_words(n, str):\n",
    "    word_len = []\n",
    "    txt = str.split(\" \")\n",
    "    print(txt)\n",
    "    for x in txt:\n",
    "        if len(x) > n:\n",
    "            word_len.append(x)\n",
    "    return word_len\n",
    "print(filter_long_words(5, \"I am really finding it intersting\"))"
   ]
  },
  {
   "cell_type": "code",
   "execution_count": null,
   "metadata": {},
   "outputs": [],
   "source": [
    "#MLASSIGNEMENT_2_TASK2_2.2"
   ]
  },
  {
   "cell_type": "code",
   "execution_count": 31,
   "metadata": {},
   "outputs": [
    {
     "name": "stdout",
     "output_type": "stream",
     "text": [
      "Is the given letter a vowel?  True\n"
     ]
    }
   ],
   "source": [
    "def find_vowel(s):\n",
    "    vowels=['a','e','i','o','u']\n",
    "    if s in vowels:\n",
    "        return True\n",
    "    else:\n",
    "        return False\n",
    "print(\"Is the given letter a vowel? \",find_vowel('o'))\n",
    "    "
   ]
  },
  {
   "cell_type": "code",
   "execution_count": null,
   "metadata": {},
   "outputs": [],
   "source": [
    "#MLASSIGNEMENT_2_TASK2_1.1"
   ]
  },
  {
   "cell_type": "code",
   "execution_count": null,
   "metadata": {},
   "outputs": [],
   "source": [
    "#finding area of triangle using class concept"
   ]
  },
  {
   "cell_type": "code",
   "execution_count": 35,
   "metadata": {},
   "outputs": [
    {
     "name": "stdout",
     "output_type": "stream",
     "text": [
      "Enter side 1 : 5\n",
      "Enter side 2 : 3\n",
      "Enter side 3 : 4\n",
      "Side 1 is 5.0\n",
      "Side 2 is 3.0\n",
      "Side 3 is 4.0\n",
      "The area of the triangle is 6.0000\n"
     ]
    }
   ],
   "source": [
    "class super:\n",
    "    def __init__(self, no_of_sides):\n",
    "        self.n = no_of_sides\n",
    "        self.sides = [0 for i in range(no_of_sides)]\n",
    "    def getSides(self):\n",
    "        self.sides = [float(input(\"Enter side \"+str(i+1)+\" : \")) for i in range(self.n)]\n",
    "    def display(self):\n",
    "        for i in range(self.n):\n",
    "            print(\"Side\",i+1,\"is\",self.sides[i])\n",
    "class Triangle(super):\n",
    "    def __init__(self):\n",
    "        super.__init__(self,3)\n",
    "    def findArea(self):\n",
    "        a, b, c = self.sides\n",
    "        # calculate the semi-perimeter\n",
    "        s = (a + b + c) / 2\n",
    "        area = (s*(s-a)*(s-b)*(s-c)) ** 0.5\n",
    "        print('The area of the triangle is %0.4f' %area)\n",
    "t=Triangle()\n",
    "t.getSides()\n",
    "t.display()\n",
    "t.findArea()"
   ]
  },
  {
   "cell_type": "code",
   "execution_count": null,
   "metadata": {},
   "outputs": [],
   "source": [
    "#MLASSIGNEMENT_2_TASK1_2"
   ]
  },
  {
   "cell_type": "code",
   "execution_count": null,
   "metadata": {},
   "outputs": [],
   "source": [
    "#second sereis in the list comprehesion exercise"
   ]
  },
  {
   "cell_type": "code",
   "execution_count": 36,
   "metadata": {},
   "outputs": [
    {
     "name": "stdout",
     "output_type": "stream",
     "text": [
      "enter no of repetations : 4\n",
      "enter the letters :x y z\n",
      "['x', 'xx', 'xxx', 'xxxx', 'y', 'yy', 'yyy', 'yyyy', 'z', 'zz', 'zzz', 'zzzz']\n"
     ]
    }
   ],
   "source": [
    "n=int(input(\"enter no of repetations : \"))\n",
    "li=list(map(str,input(\"enter the letters :\").split()))\n",
    "print([(lambda ch,y:ch*y)(ch,y) for ch in li for y in range(1,n+1)])"
   ]
  },
  {
   "cell_type": "code",
   "execution_count": null,
   "metadata": {},
   "outputs": [],
   "source": [
    "#third sereis in the list comprehesion exercise"
   ]
  },
  {
   "cell_type": "code",
   "execution_count": 37,
   "metadata": {},
   "outputs": [
    {
     "name": "stdout",
     "output_type": "stream",
     "text": [
      "enter no of repetations : 3\n",
      "enter the letters :x y z\n",
      "['x', 'y', 'z', 'xx', 'yy', 'zz', 'xxx', 'yyy', 'zzz']\n"
     ]
    }
   ],
   "source": [
    "n=int(input(\"enter no of repetations : \"))\n",
    "li=list(map(str,input(\"enter the letters :\").split()))\n",
    "print([(lambda ch,y:ch*y)(ch,y) for y in range(1,n+1) for ch in li])"
   ]
  },
  {
   "cell_type": "code",
   "execution_count": null,
   "metadata": {},
   "outputs": [],
   "source": [
    "#MLASSIGNEMENT_2_TASK_2_2.1"
   ]
  },
  {
   "cell_type": "code",
   "execution_count": null,
   "metadata": {},
   "outputs": [],
   "source": [
    "#map list of words into list of integers"
   ]
  },
  {
   "cell_type": "code",
   "execution_count": 2,
   "metadata": {},
   "outputs": [
    {
     "name": "stdout",
     "output_type": "stream",
     "text": [
      "enter names or strings with space separated :prad sumit roy\n",
      "['prad', 'sumit', 'roy']\n",
      "[4, 5, 3]\n"
     ]
    }
   ],
   "source": [
    "namelist=list(map(str,input(\"enter names or strings with space separated :\").split()))\n",
    "print(namelist)\n",
    "print([(lambda x: len(x))(x) for x in namelist])"
   ]
  },
  {
   "cell_type": "code",
   "execution_count": null,
   "metadata": {},
   "outputs": [],
   "source": []
  },
  {
   "cell_type": "code",
   "execution_count": null,
   "metadata": {},
   "outputs": [],
   "source": []
  },
  {
   "cell_type": "code",
   "execution_count": null,
   "metadata": {},
   "outputs": [],
   "source": []
  },
  {
   "cell_type": "code",
   "execution_count": null,
   "metadata": {},
   "outputs": [],
   "source": []
  },
  {
   "cell_type": "code",
   "execution_count": null,
   "metadata": {},
   "outputs": [],
   "source": []
  },
  {
   "cell_type": "code",
   "execution_count": null,
   "metadata": {},
   "outputs": [],
   "source": []
  }
 ],
 "metadata": {
  "kernelspec": {
   "display_name": "Python 3",
   "language": "python",
   "name": "python3"
  },
  "language_info": {
   "codemirror_mode": {
    "name": "ipython",
    "version": 3
   },
   "file_extension": ".py",
   "mimetype": "text/x-python",
   "name": "python",
   "nbconvert_exporter": "python",
   "pygments_lexer": "ipython3",
   "version": "3.7.3"
  }
 },
 "nbformat": 4,
 "nbformat_minor": 2
}
